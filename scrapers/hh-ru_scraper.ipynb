{
 "cells": [
  {
   "cell_type": "markdown",
   "metadata": {},
   "source": [
    "## Code for visualizing skills as a graph"
   ]
  },
  {
   "cell_type": "code",
   "execution_count": null,
   "metadata": {},
   "outputs": [],
   "source": [
    "import requests\n",
    "import itertools\n",
    "import time\n",
    "\n",
    "# scraping vacancies json from hh.ru\n",
    "ses = requests.Session()\n",
    "ses.headers = {'HH-User-Agent': \"Mozilla/5.0 (X11; Linux x86_64; rv:10.0) Gecko/20100101 Firefox/10.0\"}\n",
    "\n",
    "url = 'https://api.hh.ru/vacancies?text=python&per_page=100'\n",
    "res = ses.get(url)\n",
    "\n",
    "res_all = []\n",
    "for p in range(res.json()['pages']):\n",
    "    time.sleep(1)\n",
    "    print(f'scraping page {p}')\n",
    "    url = f'https://api.hh.ru/vacancies?text=python&per_page=100&page={p}' \n",
    "    res = ses.get(url)\n",
    "    res_all.append(res.json())\n"
   ]
  },
  {
   "cell_type": "code",
   "execution_count": null,
   "metadata": {
    "scrolled": true
   },
   "outputs": [],
   "source": [
    "# parcing vacancies ids, getting vacancy responce and scraping tags from each vacancy\n",
    "tags_list = []\n",
    "\n",
    "for page_res_json in res_all:\n",
    "    for i in range(page_res_json['per_page']):\n",
    "        vac_id = page_res_json['items'][i]['id']\n",
    "        vac_res = ses.get(f'https://api.hh.ru/vacancies/{vac_id}')\n",
    "\n",
    "        if len(vac_res.json()[\"key_skills\"]) > 0:  # at least one skill present\n",
    "            print(vac_id)\n",
    "            tags = [v for v_dict in vac_res.json()[\"key_skills\"] for _, v in v_dict.items()]\n",
    "            print(' '.join(tags))\n",
    "            tags_list.append(tags)\n",
    "            print()\n",
    "\n",
    "        time.sleep(0.1)  # not to overload server "
   ]
  },
  {
   "cell_type": "code",
   "execution_count": null,
   "metadata": {},
   "outputs": [],
   "source": [
    "print(res.json()['page'])"
   ]
  },
  {
   "cell_type": "code",
   "execution_count": null,
   "metadata": {},
   "outputs": [],
   "source": [
    "flattened_list = [i for line in tags_list for i in line]\n",
    "\n",
    "# some filtering by occurences count\n",
    "flattened_list = [x for x in flattened_list if flattened_list.count(x) > 10]\n",
    "\n",
    "# counting words occurances\n",
    "words_count = {i:flattened_list.count(i) for i in set(flattened_list)}\n",
    "print(words_count)\n",
    "\n",
    "\n",
    "# tags connection dict initialization\n",
    "formatted_tags = {}\n",
    "for tag1 in set(flattened_list):\n",
    "    for tag2 in set(flattened_list):\n",
    "        formatted_tags[(tag1, tag2)] = 0 \n",
    "\n",
    "        \n",
    "# count tags connection\n",
    "for line in tags_list:\n",
    "    for tag1, tag2 in itertools.product(line, repeat=2):\n",
    "        if (tag1, tag2) in formatted_tags:\n",
    "            formatted_tags[(tag1, tag2)] += 1 \n",
    "            \n",
    "            \n",
    "# filtering data from zero occurances\n",
    "for k, v in formatted_tags.copy().items():\n",
    "    if v == 0 or ('Python' in k):\n",
    "        del formatted_tags[k]\n",
    "            \n",
    "for k,v in formatted_tags.items():\n",
    "    print(k,v)"
   ]
  },
  {
   "cell_type": "code",
   "execution_count": null,
   "metadata": {},
   "outputs": [],
   "source": []
  },
  {
   "cell_type": "code",
   "execution_count": null,
   "metadata": {},
   "outputs": [],
   "source": [
    "import matplotlib.pyplot as plt\n",
    "import networkx as nx\n",
    "\n",
    "\n",
    "G=nx.Graph()\n",
    "\n",
    "G.add_edges_from(list(formatted_tags.keys()))\n",
    "pos = nx.spring_layout(G, k=0.5, iterations=200)\n",
    "e_widths = [i/3 for i in formatted_tags.values()]\n",
    "n_widths = [words_count[i]*10 for i in list(G.nodes())]\n",
    "\n",
    "f = plt.figure(figsize=(32,32))\n",
    "\n",
    "nx.draw_networkx_nodes(G, pos, node_color='#A0CBE2', node_size=n_widths, node_cmap=plt.cm.Blues)\n",
    "nx.draw_networkx_edges(G, pos, edge_color='#C0CBD2', edgelist=list(formatted_tags.keys()), width=e_widths, edge_cmap=plt.cm.Blues)\n",
    "nx.draw_networkx_labels(G, pos)\n",
    "\n",
    "plt.show()\n"
   ]
  },
  {
   "cell_type": "code",
   "execution_count": null,
   "metadata": {},
   "outputs": [],
   "source": [
    "import pickle\n",
    "with open('formatted_tags.pkl', 'wb') as f:\n",
    "    pickle.dump(formatted_tags, f)"
   ]
  },
  {
   "cell_type": "code",
   "execution_count": null,
   "metadata": {},
   "outputs": [],
   "source": [
    "f.savefig(\"tags_graph.png\", format=\"PNG\")"
   ]
  },
  {
   "cell_type": "code",
   "execution_count": null,
   "metadata": {},
   "outputs": [],
   "source": []
  }
 ],
 "metadata": {
  "hide_input": false,
  "kernelspec": {
   "display_name": "Python 3",
   "language": "python",
   "name": "python3"
  },
  "language_info": {
   "codemirror_mode": {
    "name": "ipython",
    "version": 3
   },
   "file_extension": ".py",
   "mimetype": "text/x-python",
   "name": "python",
   "nbconvert_exporter": "python",
   "pygments_lexer": "ipython3",
   "version": "3.7.5"
  }
 },
 "nbformat": 4,
 "nbformat_minor": 4
}
